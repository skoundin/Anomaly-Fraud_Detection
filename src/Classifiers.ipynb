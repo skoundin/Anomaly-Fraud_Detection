{
 "cells": [
  {
   "cell_type": "code",
   "execution_count": 184,
   "metadata": {},
   "outputs": [],
   "source": [
    "import tensorflow as tf\n",
    "import pandas as pd\n",
    "import matplotlib.pyplot as plt\n",
    "%matplotlib inline\n",
    "from sklearn.model_selection import train_test_split\n",
    "from sklearn.metrics import accuracy_score\n",
    "from sklearn.metrics import accuracy_score\n",
    "from sklearn.utils import shuffle\n",
    "from sklearn.metrics import classification_report,confusion_matrix\n",
    "from sklearn.preprocessing import StandardScaler\n",
    "from imblearn.over_sampling import SMOTE\n",
    "from sklearn import preprocessing\n",
    "from sklearn.preprocessing import StandardScaler\n",
    "from sklearn.utils import shuffle\n",
    "from imblearn.over_sampling import SMOTE, ADASYN\n",
    "from sklearn.metrics import roc_curve"
   ]
  },
  {
   "cell_type": "code",
   "execution_count": 185,
   "metadata": {},
   "outputs": [
    {
     "name": "stdout",
     "output_type": "stream",
     "text": [
      "Shape of the data set is (284807, 31)\n"
     ]
    }
   ],
   "source": [
    "df=pd.read_csv(\"creditcard.csv\",index_col= False)\n",
    "print('Shape of the data set is {}'.format(df.shape))"
   ]
  },
  {
   "cell_type": "code",
   "execution_count": 186,
   "metadata": {},
   "outputs": [
    {
     "data": {
      "text/html": [
       "<div>\n",
       "<style scoped>\n",
       "    .dataframe tbody tr th:only-of-type {\n",
       "        vertical-align: middle;\n",
       "    }\n",
       "\n",
       "    .dataframe tbody tr th {\n",
       "        vertical-align: top;\n",
       "    }\n",
       "\n",
       "    .dataframe thead th {\n",
       "        text-align: right;\n",
       "    }\n",
       "</style>\n",
       "<table border=\"1\" class=\"dataframe\">\n",
       "  <thead>\n",
       "    <tr style=\"text-align: right;\">\n",
       "      <th></th>\n",
       "      <th>Time</th>\n",
       "      <th>V1</th>\n",
       "      <th>V2</th>\n",
       "      <th>V3</th>\n",
       "      <th>V4</th>\n",
       "      <th>V5</th>\n",
       "      <th>V6</th>\n",
       "      <th>V7</th>\n",
       "      <th>V8</th>\n",
       "      <th>V9</th>\n",
       "      <th>...</th>\n",
       "      <th>V21</th>\n",
       "      <th>V22</th>\n",
       "      <th>V23</th>\n",
       "      <th>V24</th>\n",
       "      <th>V25</th>\n",
       "      <th>V26</th>\n",
       "      <th>V27</th>\n",
       "      <th>V28</th>\n",
       "      <th>Amount</th>\n",
       "      <th>Class</th>\n",
       "    </tr>\n",
       "  </thead>\n",
       "  <tbody>\n",
       "    <tr>\n",
       "      <th>0</th>\n",
       "      <td>0.0</td>\n",
       "      <td>-1.359807</td>\n",
       "      <td>-0.072781</td>\n",
       "      <td>2.536347</td>\n",
       "      <td>1.378155</td>\n",
       "      <td>-0.338321</td>\n",
       "      <td>0.462388</td>\n",
       "      <td>0.239599</td>\n",
       "      <td>0.098698</td>\n",
       "      <td>0.363787</td>\n",
       "      <td>...</td>\n",
       "      <td>-0.018307</td>\n",
       "      <td>0.277838</td>\n",
       "      <td>-0.110474</td>\n",
       "      <td>0.066928</td>\n",
       "      <td>0.128539</td>\n",
       "      <td>-0.189115</td>\n",
       "      <td>0.133558</td>\n",
       "      <td>-0.021053</td>\n",
       "      <td>149.62</td>\n",
       "      <td>0</td>\n",
       "    </tr>\n",
       "    <tr>\n",
       "      <th>1</th>\n",
       "      <td>0.0</td>\n",
       "      <td>1.191857</td>\n",
       "      <td>0.266151</td>\n",
       "      <td>0.166480</td>\n",
       "      <td>0.448154</td>\n",
       "      <td>0.060018</td>\n",
       "      <td>-0.082361</td>\n",
       "      <td>-0.078803</td>\n",
       "      <td>0.085102</td>\n",
       "      <td>-0.255425</td>\n",
       "      <td>...</td>\n",
       "      <td>-0.225775</td>\n",
       "      <td>-0.638672</td>\n",
       "      <td>0.101288</td>\n",
       "      <td>-0.339846</td>\n",
       "      <td>0.167170</td>\n",
       "      <td>0.125895</td>\n",
       "      <td>-0.008983</td>\n",
       "      <td>0.014724</td>\n",
       "      <td>2.69</td>\n",
       "      <td>0</td>\n",
       "    </tr>\n",
       "    <tr>\n",
       "      <th>2</th>\n",
       "      <td>1.0</td>\n",
       "      <td>-1.358354</td>\n",
       "      <td>-1.340163</td>\n",
       "      <td>1.773209</td>\n",
       "      <td>0.379780</td>\n",
       "      <td>-0.503198</td>\n",
       "      <td>1.800499</td>\n",
       "      <td>0.791461</td>\n",
       "      <td>0.247676</td>\n",
       "      <td>-1.514654</td>\n",
       "      <td>...</td>\n",
       "      <td>0.247998</td>\n",
       "      <td>0.771679</td>\n",
       "      <td>0.909412</td>\n",
       "      <td>-0.689281</td>\n",
       "      <td>-0.327642</td>\n",
       "      <td>-0.139097</td>\n",
       "      <td>-0.055353</td>\n",
       "      <td>-0.059752</td>\n",
       "      <td>378.66</td>\n",
       "      <td>0</td>\n",
       "    </tr>\n",
       "    <tr>\n",
       "      <th>3</th>\n",
       "      <td>1.0</td>\n",
       "      <td>-0.966272</td>\n",
       "      <td>-0.185226</td>\n",
       "      <td>1.792993</td>\n",
       "      <td>-0.863291</td>\n",
       "      <td>-0.010309</td>\n",
       "      <td>1.247203</td>\n",
       "      <td>0.237609</td>\n",
       "      <td>0.377436</td>\n",
       "      <td>-1.387024</td>\n",
       "      <td>...</td>\n",
       "      <td>-0.108300</td>\n",
       "      <td>0.005274</td>\n",
       "      <td>-0.190321</td>\n",
       "      <td>-1.175575</td>\n",
       "      <td>0.647376</td>\n",
       "      <td>-0.221929</td>\n",
       "      <td>0.062723</td>\n",
       "      <td>0.061458</td>\n",
       "      <td>123.50</td>\n",
       "      <td>0</td>\n",
       "    </tr>\n",
       "    <tr>\n",
       "      <th>4</th>\n",
       "      <td>2.0</td>\n",
       "      <td>-1.158233</td>\n",
       "      <td>0.877737</td>\n",
       "      <td>1.548718</td>\n",
       "      <td>0.403034</td>\n",
       "      <td>-0.407193</td>\n",
       "      <td>0.095921</td>\n",
       "      <td>0.592941</td>\n",
       "      <td>-0.270533</td>\n",
       "      <td>0.817739</td>\n",
       "      <td>...</td>\n",
       "      <td>-0.009431</td>\n",
       "      <td>0.798278</td>\n",
       "      <td>-0.137458</td>\n",
       "      <td>0.141267</td>\n",
       "      <td>-0.206010</td>\n",
       "      <td>0.502292</td>\n",
       "      <td>0.219422</td>\n",
       "      <td>0.215153</td>\n",
       "      <td>69.99</td>\n",
       "      <td>0</td>\n",
       "    </tr>\n",
       "  </tbody>\n",
       "</table>\n",
       "<p>5 rows × 31 columns</p>\n",
       "</div>"
      ],
      "text/plain": [
       "   Time        V1        V2        V3        V4        V5        V6        V7  \\\n",
       "0   0.0 -1.359807 -0.072781  2.536347  1.378155 -0.338321  0.462388  0.239599   \n",
       "1   0.0  1.191857  0.266151  0.166480  0.448154  0.060018 -0.082361 -0.078803   \n",
       "2   1.0 -1.358354 -1.340163  1.773209  0.379780 -0.503198  1.800499  0.791461   \n",
       "3   1.0 -0.966272 -0.185226  1.792993 -0.863291 -0.010309  1.247203  0.237609   \n",
       "4   2.0 -1.158233  0.877737  1.548718  0.403034 -0.407193  0.095921  0.592941   \n",
       "\n",
       "         V8        V9  ...         V21       V22       V23       V24  \\\n",
       "0  0.098698  0.363787  ...   -0.018307  0.277838 -0.110474  0.066928   \n",
       "1  0.085102 -0.255425  ...   -0.225775 -0.638672  0.101288 -0.339846   \n",
       "2  0.247676 -1.514654  ...    0.247998  0.771679  0.909412 -0.689281   \n",
       "3  0.377436 -1.387024  ...   -0.108300  0.005274 -0.190321 -1.175575   \n",
       "4 -0.270533  0.817739  ...   -0.009431  0.798278 -0.137458  0.141267   \n",
       "\n",
       "        V25       V26       V27       V28  Amount  Class  \n",
       "0  0.128539 -0.189115  0.133558 -0.021053  149.62      0  \n",
       "1  0.167170  0.125895 -0.008983  0.014724    2.69      0  \n",
       "2 -0.327642 -0.139097 -0.055353 -0.059752  378.66      0  \n",
       "3  0.647376 -0.221929  0.062723  0.061458  123.50      0  \n",
       "4 -0.206010  0.502292  0.219422  0.215153   69.99      0  \n",
       "\n",
       "[5 rows x 31 columns]"
      ]
     },
     "execution_count": 186,
     "metadata": {},
     "output_type": "execute_result"
    }
   ],
   "source": [
    "df.head()"
   ]
  },
  {
   "cell_type": "code",
   "execution_count": 187,
   "metadata": {},
   "outputs": [],
   "source": [
    "df= shuffle(df)"
   ]
  },
  {
   "cell_type": "code",
   "execution_count": 188,
   "metadata": {},
   "outputs": [
    {
     "name": "stdout",
     "output_type": "stream",
     "text": [
      "Original Dimensions of X:(284807, 31) and y:(284807,) \n"
     ]
    }
   ],
   "source": [
    "X= df\n",
    "y= df['Class']\n",
    "print(\"Original Dimensions of X:{} and y:{} \". format(X.shape, y.shape))"
   ]
  },
  {
   "cell_type": "code",
   "execution_count": 189,
   "metadata": {},
   "outputs": [
    {
     "name": "stdout",
     "output_type": "stream",
     "text": [
      "14752     0\n",
      "74693     0\n",
      "271209    0\n",
      "191730    0\n",
      "77941     0\n",
      "Name: Class, dtype: int64\n"
     ]
    }
   ],
   "source": [
    "print(y.head())"
   ]
  },
  {
   "cell_type": "code",
   "execution_count": 190,
   "metadata": {},
   "outputs": [],
   "source": [
    "X,y= shuffle(X,y,random_state=1)"
   ]
  },
  {
   "cell_type": "code",
   "execution_count": 191,
   "metadata": {},
   "outputs": [],
   "source": [
    "## Split the data set into train test and split\n",
    "X_train, X_test, y_train, y_test  = train_test_split(X, y, test_size=0.15)\n",
    "X_train, X_val, y_train, y_val   = train_test_split(X_train, y_train, test_size=0.15)\n"
   ]
  },
  {
   "cell_type": "code",
   "execution_count": 192,
   "metadata": {},
   "outputs": [
    {
     "name": "stderr",
     "output_type": "stream",
     "text": [
      "C:\\Users\\Koundinya\\Anaconda3\\lib\\site-packages\\ipykernel_launcher.py:3: FutureWarning: reshape is deprecated and will raise in a subsequent release. Please use .values.reshape(...) instead\n",
      "  This is separate from the ipykernel package so we can avoid doing imports until\n",
      "C:\\Users\\Koundinya\\Anaconda3\\lib\\site-packages\\ipykernel_launcher.py:4: FutureWarning: reshape is deprecated and will raise in a subsequent release. Please use .values.reshape(...) instead\n",
      "  after removing the cwd from sys.path.\n"
     ]
    }
   ],
   "source": [
    "# Standardizing the Amount and Time , so that they contribute equally\n",
    "from sklearn.preprocessing import StandardScaler\n",
    "df['Amount_Scaled'] = StandardScaler().fit_transform(df['Amount'].reshape(-1,1))\n",
    "df['Scaled_Time'] = StandardScaler().fit_transform(df['Time'].reshape(-1,1))\n"
   ]
  },
  {
   "cell_type": "code",
   "execution_count": 193,
   "metadata": {},
   "outputs": [
    {
     "data": {
      "text/html": [
       "<div>\n",
       "<style scoped>\n",
       "    .dataframe tbody tr th:only-of-type {\n",
       "        vertical-align: middle;\n",
       "    }\n",
       "\n",
       "    .dataframe tbody tr th {\n",
       "        vertical-align: top;\n",
       "    }\n",
       "\n",
       "    .dataframe thead th {\n",
       "        text-align: right;\n",
       "    }\n",
       "</style>\n",
       "<table border=\"1\" class=\"dataframe\">\n",
       "  <thead>\n",
       "    <tr style=\"text-align: right;\">\n",
       "      <th></th>\n",
       "      <th>Time</th>\n",
       "      <th>V1</th>\n",
       "      <th>V2</th>\n",
       "      <th>V3</th>\n",
       "      <th>V4</th>\n",
       "      <th>V5</th>\n",
       "      <th>V6</th>\n",
       "      <th>V7</th>\n",
       "      <th>V8</th>\n",
       "      <th>V9</th>\n",
       "      <th>...</th>\n",
       "      <th>V23</th>\n",
       "      <th>V24</th>\n",
       "      <th>V25</th>\n",
       "      <th>V26</th>\n",
       "      <th>V27</th>\n",
       "      <th>V28</th>\n",
       "      <th>Amount</th>\n",
       "      <th>Class</th>\n",
       "      <th>Amount_Scaled</th>\n",
       "      <th>Scaled_Time</th>\n",
       "    </tr>\n",
       "  </thead>\n",
       "  <tbody>\n",
       "    <tr>\n",
       "      <th>14752</th>\n",
       "      <td>25982.0</td>\n",
       "      <td>-1.039973</td>\n",
       "      <td>1.299918</td>\n",
       "      <td>0.910992</td>\n",
       "      <td>-0.348601</td>\n",
       "      <td>0.201290</td>\n",
       "      <td>0.028092</td>\n",
       "      <td>0.753058</td>\n",
       "      <td>0.088520</td>\n",
       "      <td>0.269582</td>\n",
       "      <td>...</td>\n",
       "      <td>0.014409</td>\n",
       "      <td>-0.403298</td>\n",
       "      <td>-0.120226</td>\n",
       "      <td>0.097516</td>\n",
       "      <td>0.430505</td>\n",
       "      <td>0.035061</td>\n",
       "      <td>35.99</td>\n",
       "      <td>0</td>\n",
       "      <td>-0.209338</td>\n",
       "      <td>-1.449456</td>\n",
       "    </tr>\n",
       "    <tr>\n",
       "      <th>74693</th>\n",
       "      <td>55707.0</td>\n",
       "      <td>-1.475339</td>\n",
       "      <td>0.407217</td>\n",
       "      <td>2.089640</td>\n",
       "      <td>-0.162259</td>\n",
       "      <td>-1.819469</td>\n",
       "      <td>1.310367</td>\n",
       "      <td>-1.231456</td>\n",
       "      <td>1.393308</td>\n",
       "      <td>0.904845</td>\n",
       "      <td>...</td>\n",
       "      <td>-0.258797</td>\n",
       "      <td>-0.224144</td>\n",
       "      <td>0.001076</td>\n",
       "      <td>1.248771</td>\n",
       "      <td>-0.263429</td>\n",
       "      <td>-0.069092</td>\n",
       "      <td>75.00</td>\n",
       "      <td>0</td>\n",
       "      <td>-0.053373</td>\n",
       "      <td>-0.823509</td>\n",
       "    </tr>\n",
       "    <tr>\n",
       "      <th>271209</th>\n",
       "      <td>164464.0</td>\n",
       "      <td>0.205004</td>\n",
       "      <td>1.010645</td>\n",
       "      <td>-2.426759</td>\n",
       "      <td>-0.612468</td>\n",
       "      <td>1.386975</td>\n",
       "      <td>-0.508007</td>\n",
       "      <td>1.157662</td>\n",
       "      <td>0.213377</td>\n",
       "      <td>-0.729720</td>\n",
       "      <td>...</td>\n",
       "      <td>-0.024299</td>\n",
       "      <td>-0.200954</td>\n",
       "      <td>-0.191080</td>\n",
       "      <td>0.547450</td>\n",
       "      <td>-0.178423</td>\n",
       "      <td>-0.058150</td>\n",
       "      <td>65.07</td>\n",
       "      <td>0</td>\n",
       "      <td>-0.093074</td>\n",
       "      <td>1.466687</td>\n",
       "    </tr>\n",
       "    <tr>\n",
       "      <th>191730</th>\n",
       "      <td>129391.0</td>\n",
       "      <td>2.156885</td>\n",
       "      <td>0.580996</td>\n",
       "      <td>-3.513009</td>\n",
       "      <td>0.570176</td>\n",
       "      <td>1.455369</td>\n",
       "      <td>-1.292348</td>\n",
       "      <td>0.715809</td>\n",
       "      <td>-0.362565</td>\n",
       "      <td>0.284720</td>\n",
       "      <td>...</td>\n",
       "      <td>-0.110840</td>\n",
       "      <td>-0.123824</td>\n",
       "      <td>0.445980</td>\n",
       "      <td>0.726338</td>\n",
       "      <td>-0.091704</td>\n",
       "      <td>-0.022840</td>\n",
       "      <td>0.76</td>\n",
       "      <td>0</td>\n",
       "      <td>-0.350191</td>\n",
       "      <td>0.728123</td>\n",
       "    </tr>\n",
       "    <tr>\n",
       "      <th>77941</th>\n",
       "      <td>57290.0</td>\n",
       "      <td>1.368120</td>\n",
       "      <td>-1.018955</td>\n",
       "      <td>-0.634582</td>\n",
       "      <td>-1.782295</td>\n",
       "      <td>0.991229</td>\n",
       "      <td>3.542679</td>\n",
       "      <td>-1.557314</td>\n",
       "      <td>0.921697</td>\n",
       "      <td>-0.547087</td>\n",
       "      <td>...</td>\n",
       "      <td>-0.167253</td>\n",
       "      <td>1.050871</td>\n",
       "      <td>0.577863</td>\n",
       "      <td>-0.037769</td>\n",
       "      <td>0.034412</td>\n",
       "      <td>0.024864</td>\n",
       "      <td>44.00</td>\n",
       "      <td>0</td>\n",
       "      <td>-0.177314</td>\n",
       "      <td>-0.790175</td>\n",
       "    </tr>\n",
       "  </tbody>\n",
       "</table>\n",
       "<p>5 rows × 33 columns</p>\n",
       "</div>"
      ],
      "text/plain": [
       "            Time        V1        V2        V3        V4        V5        V6  \\\n",
       "14752    25982.0 -1.039973  1.299918  0.910992 -0.348601  0.201290  0.028092   \n",
       "74693    55707.0 -1.475339  0.407217  2.089640 -0.162259 -1.819469  1.310367   \n",
       "271209  164464.0  0.205004  1.010645 -2.426759 -0.612468  1.386975 -0.508007   \n",
       "191730  129391.0  2.156885  0.580996 -3.513009  0.570176  1.455369 -1.292348   \n",
       "77941    57290.0  1.368120 -1.018955 -0.634582 -1.782295  0.991229  3.542679   \n",
       "\n",
       "              V7        V8        V9     ...            V23       V24  \\\n",
       "14752   0.753058  0.088520  0.269582     ...       0.014409 -0.403298   \n",
       "74693  -1.231456  1.393308  0.904845     ...      -0.258797 -0.224144   \n",
       "271209  1.157662  0.213377 -0.729720     ...      -0.024299 -0.200954   \n",
       "191730  0.715809 -0.362565  0.284720     ...      -0.110840 -0.123824   \n",
       "77941  -1.557314  0.921697 -0.547087     ...      -0.167253  1.050871   \n",
       "\n",
       "             V25       V26       V27       V28  Amount  Class  Amount_Scaled  \\\n",
       "14752  -0.120226  0.097516  0.430505  0.035061   35.99      0      -0.209338   \n",
       "74693   0.001076  1.248771 -0.263429 -0.069092   75.00      0      -0.053373   \n",
       "271209 -0.191080  0.547450 -0.178423 -0.058150   65.07      0      -0.093074   \n",
       "191730  0.445980  0.726338 -0.091704 -0.022840    0.76      0      -0.350191   \n",
       "77941   0.577863 -0.037769  0.034412  0.024864   44.00      0      -0.177314   \n",
       "\n",
       "        Scaled_Time  \n",
       "14752     -1.449456  \n",
       "74693     -0.823509  \n",
       "271209     1.466687  \n",
       "191730     0.728123  \n",
       "77941     -0.790175  \n",
       "\n",
       "[5 rows x 33 columns]"
      ]
     },
     "execution_count": 193,
     "metadata": {},
     "output_type": "execute_result"
    }
   ],
   "source": [
    "df.head()"
   ]
  },
  {
   "cell_type": "code",
   "execution_count": 194,
   "metadata": {},
   "outputs": [],
   "source": [
    "def plot_confusion_matrix(cm, classes,\n",
    "                          normalize=False,\n",
    "                          title='Confusion matrix',\n",
    "                          cmap=plt.cm.Blues):\n",
    "    \"\"\"\n",
    "    This function prints and plots the confusion matrix.\n",
    "    Normalization can be applied by setting `normalize=True`.\n",
    "    \"\"\"\n",
    "    if normalize:\n",
    "        cm = cm.astype('float') / cm.sum(axis=1)[:, np.newaxis]\n",
    "        print(\"Normalized confusion matrix\")\n",
    "    else:\n",
    "        print('Confusion matrix, without normalization')\n",
    "\n",
    "    print(cm)\n",
    "\n",
    "    plt.imshow(cm, interpolation='nearest', cmap=cmap)\n",
    "    plt.title(title)\n",
    "    plt.colorbar()\n",
    "    tick_marks = np.arange(len(classes))\n",
    "    plt.xticks(tick_marks, classes, rotation=45)\n",
    "    plt.yticks(tick_marks, classes)\n",
    "\n",
    "    fmt = '.2f' if normalize else 'd'\n",
    "    thresh = cm.max() / 2.\n",
    "    for i, j in itertools.product(range(cm.shape[0]), range(cm.shape[1])):\n",
    "        plt.text(j, i, format(cm[i, j], fmt),\n",
    "                 horizontalalignment=\"center\",\n",
    "                 color=\"white\" if cm[i, j] > thresh else \"black\")\n",
    "\n",
    "    plt.ylabel('True label')\n",
    "    plt.xlabel('Predicted label')\n",
    "    plt.tight_layout()"
   ]
  },
  {
   "cell_type": "code",
   "execution_count": 195,
   "metadata": {},
   "outputs": [
    {
     "data": {
      "text/plain": [
       "0    284315\n",
       "1       492\n",
       "Name: Class, dtype: int64"
      ]
     },
     "execution_count": 195,
     "metadata": {},
     "output_type": "execute_result"
    }
   ],
   "source": [
    "# Before ovsersapmling, the number of classes for Y class\n",
    "df[\"Class\"].value_counts()"
   ]
  },
  {
   "cell_type": "code",
   "execution_count": 196,
   "metadata": {},
   "outputs": [
    {
     "name": "stdout",
     "output_type": "stream",
     "text": [
      "Original Dimensions of Training Data : X:(205772, 31) and y:(205772,) \n"
     ]
    }
   ],
   "source": [
    "print(\"Original Dimensions of Training Data : X:{} and y:{} \". format(X_train.shape, y_train.shape))"
   ]
  },
  {
   "cell_type": "markdown",
   "metadata": {},
   "source": [
    "# OverSampling the Minority Class"
   ]
  },
  {
   "cell_type": "code",
   "execution_count": 197,
   "metadata": {},
   "outputs": [],
   "source": [
    "# This is a imbalanced data set and we need to oversample\n",
    "ada = ADASYN(random_state=42)\n",
    "X_train_res, y_train_res = ada.fit_sample(X_train,y_train)\n",
    "#X_train_res, y_train_res = ADASYN().fit_sample(X_train, y_train)"
   ]
  },
  {
   "cell_type": "code",
   "execution_count": 198,
   "metadata": {},
   "outputs": [
    {
     "name": "stdout",
     "output_type": "stream",
     "text": [
      "[205411 205466]\n"
     ]
    }
   ],
   "source": [
    "import numpy as np\n",
    "print(np.bincount(y_train_res))"
   ]
  },
  {
   "cell_type": "code",
   "execution_count": 199,
   "metadata": {},
   "outputs": [
    {
     "name": "stdout",
     "output_type": "stream",
     "text": [
      "Oversampled Dimensions of Training Data : X:(410877, 31) and y:(410877,) \n"
     ]
    }
   ],
   "source": [
    "print(\"Oversampled Dimensions of Training Data : X:{} and y:{} \". format(X_train_res.shape, y_train_res.shape))"
   ]
  },
  {
   "cell_type": "code",
   "execution_count": null,
   "metadata": {},
   "outputs": [],
   "source": []
  },
  {
   "cell_type": "markdown",
   "metadata": {},
   "source": [
    "# Naive Bayes"
   ]
  },
  {
   "cell_type": "code",
   "execution_count": 200,
   "metadata": {},
   "outputs": [],
   "source": [
    "from sklearn.naive_bayes import GaussianNB\n",
    "from sklearn.metrics import classification_report\n",
    "from sklearn.metrics import accuracy_score\n",
    "NB_clf_balanced = GaussianNB()"
   ]
  },
  {
   "cell_type": "code",
   "execution_count": 201,
   "metadata": {},
   "outputs": [],
   "source": [
    "NB_clf_balanced=NB_clf_balanced.fit(X_train_res,y_train_res) # Model fit on Balanced data set"
   ]
  },
  {
   "cell_type": "markdown",
   "metadata": {},
   "source": [
    "# Naive Bayes - Evaluation"
   ]
  },
  {
   "cell_type": "code",
   "execution_count": 202,
   "metadata": {},
   "outputs": [
    {
     "name": "stdout",
     "output_type": "stream",
     "text": [
      "ImBalanced class Evaluation\n"
     ]
    }
   ],
   "source": [
    "print(\"ImBalanced class Evaluation\")                   \n",
    "NB_pred= NB_clf_balanced.predict(X_test)\n",
    "#accuracy_score(y_test, NB_pred)"
   ]
  },
  {
   "cell_type": "code",
   "execution_count": 203,
   "metadata": {},
   "outputs": [],
   "source": [
    "import itertools\n",
    "class_names = [0,1]\n",
    "cnf_matrix_NB=confusion_matrix(y_test,NB_pred)\n",
    "from sklearn.metrics import recall_score"
   ]
  },
  {
   "cell_type": "code",
   "execution_count": 204,
   "metadata": {},
   "outputs": [
    {
     "name": "stdout",
     "output_type": "stream",
     "text": [
      "Confusion matrix, without normalization\n",
      "[[42335   320]\n",
      " [   11    56]]\n"
     ]
    },
    {
     "data": {
      "image/png": "[encoded data removed]",
      "text/plain": [
       "<matplotlib.figure.Figure at 0x157030572e8>"
      ]
     },
     "metadata": {},
     "output_type": "display_data"
    }
   ],
   "source": [
    "plot_confusion_matrix(cnf_matrix_NB,class_names,  title='Confusion matrix Naive Bayes Classifier')\n",
    "TP = cnf_matrix_NB[1,1]\n",
    "TN = cnf_matrix_NB[0,0]\n",
    "FP = cnf_matrix_NB[0,1]\n",
    "FN = cnf_matrix_NB[1,0]\n",
    "TPR_NB=recall_score(y_test,NB_pred)\n",
    "TNR_NB= TN/(TN + FP)\n",
    "FPR_NB= FP/(TN + FP)\n",
    "FNR_NB= FN/(FN + TP)"
   ]
  },
  {
   "cell_type": "code",
   "execution_count": 205,
   "metadata": {},
   "outputs": [
    {
     "name": "stdout",
     "output_type": "stream",
     "text": [
      " Classification Accuracy--  0.9922522353822386\n",
      " Classification Error   --  0.007747764617761388\n",
      " Sensitivity/TPR/Recall --  0.835820895522388\n",
      " Specificity /TNR       --  0.9924979486578361\n",
      " False Positive Rate/FPR--  0.007502051342163873\n",
      " Miss Rate/ FNR         --  0.16417910447761194\n"
     ]
    }
   ],
   "source": [
    "#print(classification_report(y_test,NB_pred))\n",
    "from sklearn.metrics import recall_score\n",
    "print(\" Classification Accuracy-- \",accuracy_score(y_test,NB_pred ))\n",
    "print(\" Classification Error   -- \",(1- accuracy_score(y_test,NB_pred )))  \n",
    "print(\" Sensitivity/TPR/Recall -- \",recall_score(y_test,NB_pred ))  # recall is TP /(TP+FP)\n",
    "print(\" Specificity /TNR       -- \",(TN/(TN + FP)))\n",
    "print(\" False Positive Rate/FPR-- \",(FP/(TN + FP)))\n",
    "print(\" Miss Rate/ FNR         -- \",(FN/(FN + TP)))"
   ]
  },
  {
   "cell_type": "code",
   "execution_count": null,
   "metadata": {},
   "outputs": [],
   "source": []
  },
  {
   "cell_type": "markdown",
   "metadata": {},
   "source": [
    "# Evaluation Metrices\n",
    "1. Classification Accuracy /Accuracy - Overall how often is the classifier correct ?\n",
    "    (TP + TN ) /( TP + TN + FP + FN)\n",
    "    \n",
    "2. Classification Error/  - Overall How often is the classifier incorrect ?\n",
    "    (FP + TN ) /( TP + TN + FP + FN)\n",
    " \n",
    "3. Sensitivity/TPR/ Recall - When the actual value is positive , how often is the model prediction correct ?\n",
    "    TP/( TP + FN)\n",
    "    \n",
    "4. Specificity/ TNR - When the actual value is negative , how often is the prediction correct\n",
    "    TN( TN+ FP)\n",
    "    \n",
    "5. False Positive Rate/ FPR/ Fall Out - When the actual value is negative , how often is the prediction incorrect ?\n",
    "    FP /( FP+TN)\n",
    "  \n",
    "6. Miss Rate/ FNR  - When a postive value is predicted, how often is the prediction correct\n",
    "    FN /( TP+ FN)\n"
   ]
  },
  {
   "cell_type": "markdown",
   "metadata": {},
   "source": [
    "# Logistic Regression\n",
    "\n"
   ]
  },
  {
   "cell_type": "code",
   "execution_count": 206,
   "metadata": {},
   "outputs": [],
   "source": [
    "from sklearn.linear_model import LogisticRegression\n",
    "logmodel = LogisticRegression()   "
   ]
  },
  {
   "cell_type": "code",
   "execution_count": 207,
   "metadata": {},
   "outputs": [],
   "source": [
    "logmodel_balanced=logmodel.fit(X_train_res,y_train_res)# Model fit on Balanced data set"
   ]
  },
  {
   "cell_type": "markdown",
   "metadata": {},
   "source": [
    "# Evaluation - Logistic Regression"
   ]
  },
  {
   "cell_type": "code",
   "execution_count": 208,
   "metadata": {},
   "outputs": [
    {
     "name": "stdout",
     "output_type": "stream",
     "text": [
      " Balanced class Evaluation\n"
     ]
    },
    {
     "data": {
      "text/plain": [
       "0.9852534993680071"
      ]
     },
     "execution_count": 208,
     "metadata": {},
     "output_type": "execute_result"
    }
   ],
   "source": [
    "print(\" Balanced class Evaluation\")                   \n",
    "logmodel_test_pred = logmodel_balanced.predict(X_test)\n",
    "accuracy_score(y_test, logmodel_test_pred)"
   ]
  },
  {
   "cell_type": "code",
   "execution_count": 209,
   "metadata": {},
   "outputs": [],
   "source": [
    "import itertools\n",
    "class_names = [0,1]\n",
    "cnf_matrix_Balanced_Logistic=confusion_matrix(y_test,logmodel_test_pred)"
   ]
  },
  {
   "cell_type": "code",
   "execution_count": 210,
   "metadata": {},
   "outputs": [
    {
     "name": "stdout",
     "output_type": "stream",
     "text": [
      "Confusion matrix, without normalization\n",
      "[[42029   626]\n",
      " [    4    63]]\n"
     ]
    },
    {
     "data": {
      "image/png": "[encoded data removed]",
      "text/plain": [
       "<matplotlib.figure.Figure at 0x15703057c88>"
      ]
     },
     "metadata": {},
     "output_type": "display_data"
    }
   ],
   "source": [
    "plot_confusion_matrix(cnf_matrix_Balanced_Logistic,class_names,  title='Confusion matrix Logistic Regression Classifier')\n",
    "TP = cnf_matrix_Balanced_Logistic[1,1]\n",
    "TN = cnf_matrix_Balanced_Logistic[0,0]\n",
    "FP = cnf_matrix_Balanced_Logistic[0,1]\n",
    "FN = cnf_matrix_Balanced_Logistic[1,0]\n",
    "TPR_LR=recall_score(y_test,logmodel_test_pred)\n",
    "TNR_LR= TN/(TN + FP)\n",
    "FPR_LR= FP/(TN + FP)\n",
    "FNR_lR= FN/(FN + TP)"
   ]
  },
  {
   "cell_type": "code",
   "execution_count": 211,
   "metadata": {},
   "outputs": [
    {
     "name": "stdout",
     "output_type": "stream",
     "text": [
      " Classification Accuracy--  0.9852534993680071\n",
      " Classification Error   --  0.014746500631992898\n",
      " Sensitivity/TPR/Recall --  0.9402985074626866\n",
      " Specificity /TNR       --  0.985324112061892\n",
      " False Positive Rate/FPR/Fall Out --  0.014675887938108076\n",
      " Miss Rate/ FNR         --  0.05970149253731343\n"
     ]
    }
   ],
   "source": [
    "#print(classification_report(y_test,logmodel_test_balanced))\n",
    "print(\" Classification Accuracy-- \",accuracy_score(y_test,logmodel_test_pred ))\n",
    "print(\" Classification Error   -- \",(1- accuracy_score(y_test,logmodel_test_pred )))  \n",
    "print(\" Sensitivity/TPR/Recall -- \",recall_score(y_test,logmodel_test_pred ))\n",
    "print(\" Specificity /TNR       -- \",(TN/(TN + FP)))\n",
    "print(\" False Positive Rate/FPR/Fall Out -- \",(FP/(TN + FP)))\n",
    "print(\" Miss Rate/ FNR         -- \",(FN/(TP + FN)))"
   ]
  },
  {
   "cell_type": "markdown",
   "metadata": {},
   "source": [
    "# K Nearest Neighbors"
   ]
  },
  {
   "cell_type": "code",
   "execution_count": 212,
   "metadata": {},
   "outputs": [],
   "source": [
    "from sklearn.neighbors import KNeighborsClassifier\n"
   ]
  },
  {
   "cell_type": "code",
   "execution_count": 213,
   "metadata": {},
   "outputs": [],
   "source": [
    "# Selecting the number of nearest neigbhor\n",
    "error_rate =[]\n",
    "for k in range(1,40):\n",
    "    knn=KNeighborsClassifier(n_neighbors=k)\n",
    "    knn.fit(X_train_res,y_train_res)\n",
    "    pred_k=knn.predict(X_val)\n",
    "    accuracy=accuracy_score(y_val, pred_k)\n",
    "    #print(k,accuracy)\n",
    "    error_rate.append(np.mean(pred_k != y_val))"
   ]
  },
  {
   "cell_type": "code",
   "execution_count": 214,
   "metadata": {},
   "outputs": [
    {
     "data": {
      "text/plain": [
       "Text(0,0.5,'Error Rate')"
      ]
     },
     "execution_count": 214,
     "metadata": {},
     "output_type": "execute_result"
    },
    {
     "data": {
      "image/png": "[encoded data removed]",
      "text/plain": [
       "<matplotlib.figure.Figure at 0x15717ffb240>"
      ]
     },
     "metadata": {},
     "output_type": "display_data"
    }
   ],
   "source": [
    "plt.figure(figsize=(10,6))\n",
    "plt.plot(range(1,40),error_rate,color='blue', linestyle='dashed', marker='o',\n",
    "         markerfacecolor='red', markersize=10)\n",
    "plt.title('Error Rate vs. K Value')\n",
    "plt.xlabel('K')\n",
    "plt.ylabel('Error Rate')"
   ]
  },
  {
   "cell_type": "code",
   "execution_count": 215,
   "metadata": {},
   "outputs": [],
   "source": [
    "knn=KNeighborsClassifier(n_neighbors=2)\n",
    "knn=knn.fit(X_train_res,y_train_res)"
   ]
  },
  {
   "cell_type": "code",
   "execution_count": 216,
   "metadata": {},
   "outputs": [
    {
     "name": "stdout",
     "output_type": "stream",
     "text": [
      " Balanced class Evaluation\n"
     ]
    },
    {
     "data": {
      "text/plain": [
       "0.9746968774870091"
      ]
     },
     "execution_count": 216,
     "metadata": {},
     "output_type": "execute_result"
    }
   ],
   "source": [
    "print(\" Balanced class Evaluation\")                   \n",
    "knn_test_pred = knn.predict(X_test)\n",
    "accuracy_score(y_test, knn_test_pred)\n"
   ]
  },
  {
   "cell_type": "code",
   "execution_count": 217,
   "metadata": {},
   "outputs": [],
   "source": [
    "import itertools\n",
    "class_names = [0,1]\n",
    "cnf_matrix_Balanced_knn=confusion_matrix(y_test,knn_test_pred)"
   ]
  },
  {
   "cell_type": "code",
   "execution_count": 218,
   "metadata": {},
   "outputs": [
    {
     "name": "stdout",
     "output_type": "stream",
     "text": [
      "Confusion matrix, without normalization\n",
      "[[41606  1049]\n",
      " [   32    35]]\n"
     ]
    },
    {
     "data": {
      "image/png": "[encoded data removed]",
      "text/plain": [
       "<matplotlib.figure.Figure at 0x1570303bf28>"
      ]
     },
     "metadata": {},
     "output_type": "display_data"
    }
   ],
   "source": [
    "plot_confusion_matrix(cnf_matrix_Balanced_knn,class_names,  title='Confusion matrix KNN Classifier')\n",
    "TN = cnf_matrix_Balanced_knn[0,0]\n",
    "FP = cnf_matrix_Balanced_knn[0,1]\n",
    "FN = cnf_matrix_Balanced_knn[1,0]\n",
    "TP = cnf_matrix_Balanced_knn[1,1]\n",
    "TPR_KNN=recall_score(y_test,knn_test_pred)\n",
    "TNR_KNN= TN/(TN + FP)\n",
    "FPR_KNN= FP/(TN + FP)\n",
    "FNR_KNN= FN/(TP + FN)"
   ]
  },
  {
   "cell_type": "code",
   "execution_count": 219,
   "metadata": {},
   "outputs": [
    {
     "name": "stdout",
     "output_type": "stream",
     "text": [
      " Classification Accuracy--  0.9746968774870091\n",
      " Classification Error   --  0.02530312251299094\n",
      " Sensitivity/TPR/Recall --  0.5223880597014925\n",
      " Specificity /TNR       --  0.975407337943969\n",
      " False Positive Rate/FPR--  0.024592662056030945\n",
      " Miss Rate / FNR         --  0.47761194029850745\n"
     ]
    }
   ],
   "source": [
    "#print(classification_report(y_test,logmodel_test_balanced))\n",
    "print(\" Classification Accuracy-- \",accuracy_score(y_test,knn_test_pred ))\n",
    "print(\" Classification Error   -- \",(1- accuracy_score(y_test,knn_test_pred )))  \n",
    "print(\" Sensitivity/TPR/Recall -- \",recall_score(y_test,knn_test_pred ))\n",
    "print(\" Specificity /TNR       -- \",(TN/(TN + FP)))\n",
    "print(\" False Positive Rate/FPR-- \",(FP/(TN + FP)))\n",
    "print(\" Miss Rate / FNR         -- \",(FN/(TP + FN)))"
   ]
  },
  {
   "cell_type": "markdown",
   "metadata": {},
   "source": [
    "# Voting Classifier [ Ensemble Method ] "
   ]
  },
  {
   "cell_type": "code",
   "execution_count": 220,
   "metadata": {},
   "outputs": [],
   "source": [
    "from sklearn.ensemble import VotingClassifier"
   ]
  },
  {
   "cell_type": "code",
   "execution_count": 221,
   "metadata": {},
   "outputs": [],
   "source": [
    "eclf1 = VotingClassifier(estimators=[('Nb', NB_clf_balanced), ('log', logmodel_balanced), ('knn', knn)], voting='hard')"
   ]
  },
  {
   "cell_type": "code",
   "execution_count": 222,
   "metadata": {},
   "outputs": [],
   "source": [
    "eclf1 = eclf1.fit(X_train_res, y_train_res)"
   ]
  },
  {
   "cell_type": "code",
   "execution_count": 223,
   "metadata": {},
   "outputs": [
    {
     "name": "stdout",
     "output_type": "stream",
     "text": [
      " Balanced class Evaluation\n"
     ]
    },
    {
     "name": "stderr",
     "output_type": "stream",
     "text": [
      "C:\\Users\\Koundinya\\Anaconda3\\lib\\site-packages\\sklearn\\preprocessing\\label.py:151: DeprecationWarning: The truth value of an empty array is ambiguous. Returning False, but in future this will result in an error. Use `array.size > 0` to check that an array is not empty.\n",
      "  if diff:\n"
     ]
    },
    {
     "data": {
      "text/plain": [
       "0.9970741070174617"
      ]
     },
     "execution_count": 223,
     "metadata": {},
     "output_type": "execute_result"
    }
   ],
   "source": [
    "print(\" Balanced class Evaluation\")                   \n",
    "eclf_test_pred = eclf1.predict(X_test)\n",
    "accuracy_score(y_test, eclf_test_pred)"
   ]
  },
  {
   "cell_type": "code",
   "execution_count": 224,
   "metadata": {},
   "outputs": [],
   "source": [
    "import itertools\n",
    "class_names = [0,1]\n",
    "cnf_matrix_Balanced_eclf=confusion_matrix(y_test,eclf_test_pred)\n",
    "\n",
    "TN = cnf_matrix_Balanced_eclf[0,0]\n",
    "FP = cnf_matrix_Balanced_eclf[0,1]\n",
    "FN = cnf_matrix_Balanced_eclf[1,0]\n",
    "TP = cnf_matrix_Balanced_eclf[1,1]"
   ]
  },
  {
   "cell_type": "code",
   "execution_count": 225,
   "metadata": {},
   "outputs": [
    {
     "name": "stdout",
     "output_type": "stream",
     "text": [
      "Confusion matrix, without normalization\n",
      "[[42539   116]\n",
      " [    9    58]]\n"
     ]
    },
    {
     "data": {
      "image/png": "[encoded data removed]",
      "text/plain": [
       "<matplotlib.figure.Figure at 0x15714898e80>"
      ]
     },
     "metadata": {},
     "output_type": "display_data"
    }
   ],
   "source": [
    "plot_confusion_matrix(cnf_matrix_Balanced_eclf,class_names,  title='Confusion matrix Hard Voting Classifier')"
   ]
  },
  {
   "cell_type": "code",
   "execution_count": 226,
   "metadata": {},
   "outputs": [
    {
     "name": "stdout",
     "output_type": "stream",
     "text": [
      " Classification Accuracy--  0.9970741070174617\n",
      " Classification Error   --  0.002925892982538314\n",
      " Sensitivity/TPR/Recall --  0.8656716417910447\n",
      " Specificity /TNR       --  0.9972805063884655\n",
      " False Positive Rate/FPR--  0.0027194936115344038\n",
      " Miss Rate / FNR         --  0.13432835820895522\n"
     ]
    }
   ],
   "source": [
    "# Ensembled Evaluation\n",
    "print(\" Classification Accuracy-- \",accuracy_score(y_test,eclf_test_pred ))\n",
    "print(\" Classification Error   -- \",(1- accuracy_score(y_test,eclf_test_pred )))  \n",
    "print(\" Sensitivity/TPR/Recall -- \",recall_score(y_test,eclf_test_pred ))\n",
    "print(\" Specificity /TNR       -- \",(TN/(TN + FP)))\n",
    "print(\" False Positive Rate/FPR-- \",(FP/(TN + FP)))\n",
    "print(\" Miss Rate / FNR         -- \",(FN/(TP + FN)))\n",
    "TPR_HV=recall_score(y_test,eclf_test_pred)\n",
    "TNR_HV= TN/(TN + FP)\n",
    "FPR_HV= FP/(TN + FP)\n",
    "FNR_HV= FN/(TP + FN)"
   ]
  },
  {
   "cell_type": "markdown",
   "metadata": {},
   "source": [
    "#  Soft Voting "
   ]
  },
  {
   "cell_type": "code",
   "execution_count": 227,
   "metadata": {},
   "outputs": [],
   "source": [
    "from sklearn.ensemble import VotingClassifier"
   ]
  },
  {
   "cell_type": "code",
   "execution_count": 228,
   "metadata": {},
   "outputs": [],
   "source": [
    "eclf2 = VotingClassifier(estimators=[('Nb', NB_clf_balanced), ('log', logmodel_balanced), ('knn', knn)], voting='soft')"
   ]
  },
  {
   "cell_type": "code",
   "execution_count": 229,
   "metadata": {},
   "outputs": [],
   "source": [
    "eclf2 = eclf2.fit(X_train_res, y_train_res)"
   ]
  },
  {
   "cell_type": "code",
   "execution_count": 230,
   "metadata": {},
   "outputs": [
    {
     "name": "stdout",
     "output_type": "stream",
     "text": [
      " Balanced class Evaluation\n"
     ]
    },
    {
     "name": "stderr",
     "output_type": "stream",
     "text": [
      "C:\\Users\\Koundinya\\Anaconda3\\lib\\site-packages\\sklearn\\preprocessing\\label.py:151: DeprecationWarning: The truth value of an empty array is ambiguous. Returning False, but in future this will result in an error. Use `array.size > 0` to check that an array is not empty.\n",
      "  if diff:\n"
     ]
    },
    {
     "data": {
      "text/plain": [
       "0.9969804784420205"
      ]
     },
     "execution_count": 230,
     "metadata": {},
     "output_type": "execute_result"
    }
   ],
   "source": [
    "print(\" Balanced class Evaluation\")                   \n",
    "eclf2_test_pred = eclf2.predict(X_test)\n",
    "accuracy_score(y_test, eclf2_test_pred)"
   ]
  },
  {
   "cell_type": "code",
   "execution_count": 231,
   "metadata": {},
   "outputs": [],
   "source": [
    "import itertools\n",
    "class_names = [0,1]\n",
    "cnf_matrix_Balanced_eclf2=confusion_matrix(y_test,eclf2_test_pred)"
   ]
  },
  {
   "cell_type": "code",
   "execution_count": 232,
   "metadata": {},
   "outputs": [
    {
     "name": "stdout",
     "output_type": "stream",
     "text": [
      "Confusion matrix, without normalization\n",
      "[[42535   120]\n",
      " [    9    58]]\n"
     ]
    },
    {
     "data": {
      "image/png": "[encoded data removed]",
      "text/plain": [
       "<matplotlib.figure.Figure at 0x157148a3860>"
      ]
     },
     "metadata": {},
     "output_type": "display_data"
    }
   ],
   "source": [
    "plot_confusion_matrix(cnf_matrix_Balanced_eclf2,class_names,  title='Confusion matrix Soft Voting Classifier')\n",
    "\n",
    "\n",
    "TN = cnf_matrix_Balanced_eclf2[0,0]\n",
    "FP = cnf_matrix_Balanced_eclf2[0,1]\n",
    "FN = cnf_matrix_Balanced_eclf2[1,0]\n",
    "TP = cnf_matrix_Balanced_eclf2[1,1]\n",
    "\n",
    "TPR_SV=recall_score(y_test,eclf2_test_pred)\n",
    "TNR_SV= TN/(TN + FP)\n",
    "FPR_SV= FP/(TN + FP)\n",
    "FNR_SV= FN/(TP + FN)"
   ]
  },
  {
   "cell_type": "code",
   "execution_count": 233,
   "metadata": {},
   "outputs": [
    {
     "name": "stdout",
     "output_type": "stream",
     "text": [
      " Classification Accuracy--  0.9969804784420205\n",
      " Classification Error   --  0.0030195215579794654\n",
      " Sensitivity/TPR/Recall --  0.8656716417910447\n",
      " Specificity /TNR       --  0.9971867307466885\n",
      " False Positive Rate/FPR--  0.0028132692533114523\n",
      " Miss Rate/ FNR         --  0.13432835820895522\n"
     ]
    }
   ],
   "source": [
    "# Ensembled Evaluation\n",
    "print(\" Classification Accuracy-- \",accuracy_score(y_test,eclf2_test_pred ))\n",
    "print(\" Classification Error   -- \",(1- accuracy_score(y_test,eclf2_test_pred )))  \n",
    "print(\" Sensitivity/TPR/Recall -- \",recall_score(y_test,eclf2_test_pred ))\n",
    "print(\" Specificity /TNR       -- \",(TN/(TN + FP)))\n",
    "print(\" False Positive Rate/FPR-- \",(FP/(TN + FP)))\n",
    "print(\" Miss Rate/ FNR         -- \",(FN/(TP + FN)))\n"
   ]
  },
  {
   "cell_type": "markdown",
   "metadata": {},
   "source": [
    "# Create some more visualizations"
   ]
  },
  {
   "cell_type": "code",
   "execution_count": 234,
   "metadata": {},
   "outputs": [],
   "source": [
    "import matplotlib.pyplot as plt\n",
    "%matplotlib inline"
   ]
  },
  {
   "cell_type": "code",
   "execution_count": 236,
   "metadata": {},
   "outputs": [],
   "source": [
    "# Results for Deep Learning From Google Collaboratory\n",
    "TPR_MLP=1.0\n",
    "TNR_MLP=0.99\n",
    "FPR_MLP=.0002\n",
    "FNR_MLP=0.0"
   ]
  },
  {
   "cell_type": "code",
   "execution_count": 240,
   "metadata": {},
   "outputs": [],
   "source": [
    "FNR_results=[FNR_NB,FNR_lR,FNR_KNN,FNR_HV, FNR_SV,FNR_MLP]"
   ]
  },
  {
   "cell_type": "code",
   "execution_count": 256,
   "metadata": {},
   "outputs": [
    {
     "data": {
      "image/png": "[encoded data removed]",
      "text/plain": [
       "<matplotlib.figure.Figure at 0x1571145bc50>"
      ]
     },
     "metadata": {},
     "output_type": "display_data"
    }
   ],
   "source": [
    "import numpy as np\n",
    "x = np.arange(6)\n",
    "plt.title('Miss Rate For Various Classifiers')\n",
    "#plt.xlabel('Number of epochs')\n",
    "plt.ylabel('Miss Rate in %')\n",
    "plt.bar(x, FNR_results)\n",
    "plt.xticks(x, ('NB', 'LR', 'KNN', 'HV','SV','DeepLearning'))\n",
    "plt.show()"
   ]
  },
  {
   "cell_type": "code",
   "execution_count": 246,
   "metadata": {},
   "outputs": [
    {
     "data": {
      "image/png": "[encoded data removed]",
      "text/plain": [
       "<matplotlib.figure.Figure at 0x1570300ea58>"
      ]
     },
     "metadata": {},
     "output_type": "display_data"
    }
   ],
   "source": [
    "# Plots for \n",
    "FPR_results=[FPR_NB,FPR_LR,FPR_KNN,FPR_HV, FPR_SV,FPR_MLP]\n",
    "import numpy as np\n",
    "x = np.arange(6)\n",
    "plt.title('False Positive Rate/ FallOut For Various Classifiers')\n",
    "#plt.xlabel('Number of epochs')\n",
    "plt.ylabel('Fallout in %')\n",
    "plt.bar(x, FPR_results)\n",
    "plt.xticks(x, ('NB', 'LR', 'KNN', 'HV','SV','Deep Learning'))\n",
    "plt.show()"
   ]
  },
  {
   "cell_type": "code",
   "execution_count": null,
   "metadata": {},
   "outputs": [],
   "source": []
  }
 ],
 "metadata": {
  "kernelspec": {
   "display_name": "Python 3",
   "language": "python",
   "name": "python3"
  },
  "language_info": {
   "codemirror_mode": {
    "name": "ipython",
    "version": 3
   },
   "file_extension": ".py",
   "mimetype": "text/x-python",
   "name": "python",
   "nbconvert_exporter": "python",
   "pygments_lexer": "ipython3",
   "version": "3.6.4"
  }
 },
 "nbformat": 4,
 "nbformat_minor": 2
}
